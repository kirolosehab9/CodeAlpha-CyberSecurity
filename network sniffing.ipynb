{
 "cells": [
  {
   "cell_type": "code",
   "execution_count": 2,
   "id": "33cbf902",
   "metadata": {},
   "outputs": [
    {
     "name": "stdout",
     "output_type": "stream",
     "text": [
      "Requirement already satisfied: scapy in c:\\users\\essam\\anaconda3\\lib\\site-packages (2.6.1)\n"
     ]
    },
    {
     "name": "stderr",
     "output_type": "stream",
     "text": [
      "\n",
      "[notice] A new release of pip is available: 23.1.2 -> 25.0.1\n",
      "[notice] To update, run: python.exe -m pip install --upgrade pip\n"
     ]
    }
   ],
   "source": [
    "!pip install scapy"
   ]
  },
  {
   "cell_type": "code",
   "execution_count": 3,
   "id": "1a15ff40",
   "metadata": {},
   "outputs": [],
   "source": [
    "import sys"
   ]
  },
  {
   "cell_type": "code",
   "execution_count": 4,
   "id": "41d84488",
   "metadata": {},
   "outputs": [],
   "source": [
    "from scapy.all import *\n",
    "from scapy.all import sniff, IP, TCP, UDP, ICMP,Ether\n"
   ]
  },
  {
   "cell_type": "code",
   "execution_count": 5,
   "id": "403ffc71",
   "metadata": {},
   "outputs": [
    {
     "name": "stdout",
     "output_type": "stream",
     "text": [
      "scapy is ready\n"
     ]
    }
   ],
   "source": [
    "print (\"scapy is ready\")"
   ]
  },
  {
   "cell_type": "code",
   "execution_count": 6,
   "id": "46e6af45",
   "metadata": {},
   "outputs": [
    {
     "name": "stdout",
     "output_type": "stream",
     "text": [
      "Source IP: 192.168.1.6, Destination IP: 52.168.117.171\n",
      "Source Port: 2793, Destination Port: 443\n",
      "Ethernet Source: 70:a6:cc:7f:e4:c8, Destination: 04:20:84:55:4e:62\n",
      "Packet Summary:  Ether / IP / TCP 192.168.1.6:2793 > 52.168.117.171:https A / Raw\n",
      "Source IP: 192.168.1.6, Destination IP: 52.168.117.171\n",
      "Source Port: 2793, Destination Port: 443\n",
      "Ethernet Source: 70:a6:cc:7f:e4:c8, Destination: 04:20:84:55:4e:62\n",
      "Packet Summary:  Ether / IP / TCP 192.168.1.6:2793 > 52.168.117.171:https A / Raw\n",
      "Source IP: 192.168.1.6, Destination IP: 52.168.117.171\n",
      "Source Port: 2793, Destination Port: 443\n",
      "Ethernet Source: 70:a6:cc:7f:e4:c8, Destination: 04:20:84:55:4e:62\n",
      "Packet Summary:  Ether / IP / TCP 192.168.1.6:2793 > 52.168.117.171:https A / Raw\n",
      "Source IP: 192.168.1.6, Destination IP: 52.168.117.171\n",
      "Source Port: 2793, Destination Port: 443\n",
      "Ethernet Source: 70:a6:cc:7f:e4:c8, Destination: 04:20:84:55:4e:62\n",
      "Packet Summary:  Ether / IP / TCP 192.168.1.6:2793 > 52.168.117.171:https PA / Raw\n",
      "Source IP: 192.168.1.6, Destination IP: 163.121.128.134\n",
      "Source Port: 56704, Destination Port: 53\n",
      "Ethernet Source: 70:a6:cc:7f:e4:c8, Destination: 04:20:84:55:4e:62\n",
      "Packet Summary:  Ether / IP / UDP / DNS Qry b'mobile.events.data.microsoft.com.'\n",
      "Source IP: 163.121.128.134, Destination IP: 192.168.1.6\n",
      "Source Port: 53, Destination Port: 56704\n",
      "Ethernet Source: 04:20:84:55:4e:62, Destination: 70:a6:cc:7f:e4:c8\n",
      "Packet Summary:  Ether / IP / UDP / DNS Ans b'mobile.events.data.trafficmanager.net.'\n",
      "Source IP: 192.168.1.6, Destination IP: 20.42.65.88\n",
      "Source Port: 2970, Destination Port: 443\n",
      "Ethernet Source: 70:a6:cc:7f:e4:c8, Destination: 04:20:84:55:4e:62\n",
      "Packet Summary:  Ether / IP / TCP 192.168.1.6:2970 > 20.42.65.88:https S\n",
      "Source IP: 52.168.117.171, Destination IP: 192.168.1.6\n",
      "Source Port: 443, Destination Port: 2793\n",
      "Ethernet Source: 04:20:84:55:4e:62, Destination: 70:a6:cc:7f:e4:c8\n",
      "Packet Summary:  Ether / IP / TCP 52.168.117.171:https > 192.168.1.6:2793 A\n",
      "Source IP: 52.168.117.171, Destination IP: 192.168.1.6\n",
      "Source Port: 443, Destination Port: 2793\n",
      "Ethernet Source: 04:20:84:55:4e:62, Destination: 70:a6:cc:7f:e4:c8\n",
      "Packet Summary:  Ether / IP / TCP 52.168.117.171:https > 192.168.1.6:2793 A\n",
      "Source IP: 52.168.117.171, Destination IP: 192.168.1.6\n",
      "Source Port: 443, Destination Port: 2793\n",
      "Ethernet Source: 04:20:84:55:4e:62, Destination: 70:a6:cc:7f:e4:c8\n",
      "Packet Summary:  Ether / IP / TCP 52.168.117.171:https > 192.168.1.6:2793 PA / Raw\n"
     ]
    },
    {
     "data": {
      "text/plain": [
       "<Sniffed: TCP:0 UDP:0 ICMP:0 Other:0>"
      ]
     },
     "execution_count": 6,
     "metadata": {},
     "output_type": "execute_result"
    }
   ],
   "source": [
    "def packet_callback(packet):\n",
    "    if IP in packet:\n",
    "        print(f\"Source IP: {packet[IP].src}, Destination IP: {packet[IP].dst}\")\n",
    "    if TCP in packet:\n",
    "        print(f\"Source Port: {packet[TCP].sport}, Destination Port: {packet[TCP].dport}\")\n",
    "    if UDP in packet:\n",
    "        print(f\"Source Port: {packet[UDP].sport}, Destination Port: {packet[UDP].dport}\")   \n",
    "    if ICMP in packet:  \n",
    "        print(f\"ICMP Type: {packet[ICMP].type}, Code: {packet[ICMP].code}\")\n",
    "    if Ether in packet:\n",
    "        print(f\"Ethernet Source: {packet[Ether].src}, Destination: {packet[Ether].dst}\")\n",
    "    print(\"Packet Summary: \", packet.summary())\n",
    "sniff(prn=packet_callback,filter='ip',count=10,store=False)"
   ]
  }
 ],
 "metadata": {
  "kernelspec": {
   "display_name": "base",
   "language": "python",
   "name": "python3"
  },
  "language_info": {
   "codemirror_mode": {
    "name": "ipython",
    "version": 3
   },
   "file_extension": ".py",
   "mimetype": "text/x-python",
   "name": "python",
   "nbconvert_exporter": "python",
   "pygments_lexer": "ipython3",
   "version": "3.9.13"
  }
 },
 "nbformat": 4,
 "nbformat_minor": 5
}
